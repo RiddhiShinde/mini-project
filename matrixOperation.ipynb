{
 "cells": [
  {
   "cell_type": "markdown",
   "id": "8b47fdea-8939-4afa-9b6b-ac35ec7c1796",
   "metadata": {},
   "source": [
    "### expected output\n",
    "```\n",
    "[1,2,3,4,\n",
    "2,4,6,8,\n",
    "1,4,6,3,\n",
    "5,8,6,7]\n",
    "```"
   ]
  },
  {
   "cell_type": "code",
   "execution_count": 9,
   "id": "f6d3f125-1069-4051-a4cf-e597897ff7d7",
   "metadata": {},
   "outputs": [
    {
     "name": "stdout",
     "output_type": "stream",
     "text": [
      "1 2 3 4 \n",
      "5 6 7 8 \n",
      "9 10 11 12 \n",
      "13 14 15 16 \n"
     ]
    }
   ],
   "source": [
    "lst=[1,2,3,4,5,6,7,8,9,10,11,12,13,14,15,16]\n",
    "k=0\n",
    "for i in range(1,len(lst)+1):\n",
    "    print(i,end=\" \")\n",
    "    if i%4==0:\n",
    "        print()\n",
    "    "
   ]
  },
  {
   "cell_type": "markdown",
   "id": "7f6613c2-09d9-40c1-9482-3e853e712626",
   "metadata": {},
   "source": [
    "### expected output\n",
    "```\n",
    "[0,2,3,4,\n",
    "2,0,6,8,\n",
    "1,4,0,3,\n",
    "5,8,6,0]\n",
    "```"
   ]
  },
  {
   "cell_type": "code",
   "execution_count": 39,
   "id": "8b636253-178b-40c3-bc3f-ec981e3ddb95",
   "metadata": {},
   "outputs": [
    {
     "name": "stdout",
     "output_type": "stream",
     "text": [
      "[0, 2, 3, 4, 5, 0, 7, 8, 9, 10, 0, 12, 13, 14, 15, 0]\n",
      "\n",
      " list in matrix format: \n",
      "\n",
      "0 2 3 4 \n",
      "5 0 7 8 \n",
      "9 10 0 12 \n",
      "13 14 15 0 \n"
     ]
    }
   ],
   "source": [
    "#matrix/list\n",
    "mtrx =[1,2,3,4,5,6,7,8,9,10,11,12,13,14,15,16]\n",
    "\n",
    "#logic for making diagonal 0\n",
    "\n",
    "for i in range(0,len(mtrx)):\n",
    "    if i%5 ==0:\n",
    "        mtrx[i]=0\n",
    "        \n",
    "print(mtrx)  \n",
    "\n",
    "# printing matrix \n",
    "\n",
    "print(\"\\n list in matrix format: \\n\")\n",
    "for i in range(0, len(mtrx)):\n",
    "    print(mtrx[i],end=\" \")\n",
    "\n",
    "    if (i+1)%4==0:\n",
    "        print()\n",
    "    \n",
    "    \n",
    "    \n",
    "     "
   ]
  },
  {
   "cell_type": "code",
   "execution_count": 49,
   "id": "ba2aa8d7-98f8-4d90-aecd-04881d1de0fd",
   "metadata": {},
   "outputs": [
    {
     "name": "stdout",
     "output_type": "stream",
     "text": [
      "enter list dimension\n"
     ]
    },
    {
     "name": "stdin",
     "output_type": "stream",
     "text": [
      " 5\n",
      "enter list element:  1\n",
      "enter list element:  2\n",
      "enter list element:  3\n",
      "enter list element:  4\n",
      "enter list element:  5\n",
      "enter list element:  6\n",
      "enter list element:  7\n",
      "enter list element:  8\n",
      "enter list element:  9\n",
      "enter list element:  0\n",
      "enter list element:  11\n",
      "enter list element:  12\n",
      "enter list element:  13\n",
      "enter list element:  14\n",
      "enter list element:  15\n",
      "enter list element:  16\n",
      "enter list element:  17\n",
      "enter list element:  18\n",
      "enter list element:  19\n",
      "enter list element:  20\n",
      "enter list element:  21\n",
      "enter list element:  22\n",
      "enter list element:  23\n",
      "enter list element:  24\n",
      "enter list element:  25\n"
     ]
    },
    {
     "name": "stdout",
     "output_type": "stream",
     "text": [
      "[1, 2, 3, 4, 5, 6, 7, 8, 9, 0, 11, 12, 13, 14, 15, 16, 17, 18, 19, 20, 21, 22, 23, 24, 25]\n",
      "0 2 3 4 5 \n",
      "6 0 8 9 0 \n",
      "11 12 0 14 15 \n",
      "16 17 18 0 20 \n",
      "21 22 23 24 0 \n"
     ]
    }
   ],
   "source": [
    "lst=[]\n",
    "print(\"enter list dimension\")\n",
    "d=int(input())\n",
    "for i in range(0,d*d):\n",
    "    ip =int(input(\"enter list element: \"))\n",
    "    lst.append(ip)\n",
    "\n",
    "print(lst)\n",
    "\n",
    "#making diagonal element =0\n",
    "for i in range(0,len(lst)):\n",
    "    if i%(d+1)==0:\n",
    "        lst[i]=0\n",
    "\n",
    "#print in matrix format\n",
    "for i in range(0,len(lst)):\n",
    "    print(lst[i],end=\" \")\n",
    "\n",
    "    if (i+1)%d==0:\n",
    "        print()\n",
    "\n",
    "#for 2*2 list evry 3rd element is zero\n",
    "# for 3*3 list every 4th element is zero\n",
    "#for 4*4 list every 5th element is zero\n",
    "\n",
    "#for 2*2 matrix next line is after 1st index\n",
    "#for 3*3 matrix, next line is after 2 & 5 index\n",
    "#for 4*4 matrix, next line is after 3,7,11 index"
   ]
  },
  {
   "cell_type": "code",
   "execution_count": null,
   "id": "8547b4d1-94a9-461e-bdd1-dd2776e94083",
   "metadata": {},
   "outputs": [],
   "source": []
  }
 ],
 "metadata": {
  "kernelspec": {
   "display_name": "Python 3 (ipykernel)",
   "language": "python",
   "name": "python3"
  },
  "language_info": {
   "codemirror_mode": {
    "name": "ipython",
    "version": 3
   },
   "file_extension": ".py",
   "mimetype": "text/x-python",
   "name": "python",
   "nbconvert_exporter": "python",
   "pygments_lexer": "ipython3",
   "version": "3.11.5"
  }
 },
 "nbformat": 4,
 "nbformat_minor": 5
}
